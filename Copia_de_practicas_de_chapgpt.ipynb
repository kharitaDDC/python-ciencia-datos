{
  "nbformat": 4,
  "nbformat_minor": 0,
  "metadata": {
    "colab": {
      "provenance": [],
      "include_colab_link": true
    },
    "kernelspec": {
      "name": "python3",
      "display_name": "Python 3"
    },
    "language_info": {
      "name": "python"
    }
  },
  "cells": [
    {
      "cell_type": "markdown",
      "metadata": {
        "id": "view-in-github",
        "colab_type": "text"
      },
      "source": [
        "<a href=\"https://colab.research.google.com/github/kharitaDDC/python-ciencia-datos/blob/main/Copia_de_practicas_de_chapgpt.ipynb\" target=\"_parent\"><img src=\"https://colab.research.google.com/assets/colab-badge.svg\" alt=\"Open In Colab\"/></a>"
      ]
    },
    {
      "cell_type": "markdown",
      "source": [
        "Serie Fibonasi"
      ],
      "metadata": {
        "id": "fiT7KunoCKZm"
      }
    },
    {
      "cell_type": "code",
      "execution_count": null,
      "metadata": {
        "colab": {
          "base_uri": "https://localhost:8080/"
        },
        "id": "TJi5j1L7EQWd",
        "outputId": "f873e9f1-8b2b-4850-e687-766d2fb351db"
      },
      "outputs": [
        {
          "output_type": "stream",
          "name": "stdout",
          "text": [
            "1\n",
            "1\n",
            "2\n",
            "3\n",
            "5\n",
            "8\n",
            "13\n",
            "21\n",
            "34\n",
            "55\n",
            "89\n"
          ]
        }
      ],
      "source": [
        "a, b = 0, 1\n",
        "while b < 100:\n",
        "  print(b)\n",
        "  a, b = b, a+b\n",
        "\n",
        "\n",
        "\n",
        "\n"
      ]
    },
    {
      "cell_type": "markdown",
      "source": [],
      "metadata": {
        "id": "EGGReP0JCVdK"
      }
    },
    {
      "cell_type": "code",
      "source": [
        "1. Escribir un programa que solicite al usuario dos números enteros y muestre la suma de ambos.\n"
      ],
      "metadata": {
        "id": "VNhCW4xxCIfn"
      },
      "execution_count": null,
      "outputs": []
    },
    {
      "cell_type": "code",
      "source": [
        "a, b = 0,0\n",
        "a = int(input(\"Ingrese Un numero en a: \"))\n",
        "b = int(input(\"Ingrese un Numero en b: \"))\n",
        "\n",
        "print(\"La suma de a + b = \" , a + b)"
      ],
      "metadata": {
        "colab": {
          "base_uri": "https://localhost:8080/"
        },
        "id": "4Y2YddavCe64",
        "outputId": "42569ef4-c485-4169-987a-6dc4377f89e6"
      },
      "execution_count": null,
      "outputs": [
        {
          "output_type": "stream",
          "name": "stdout",
          "text": [
            "Ingrese Un numero en a: 12\n",
            "Ingrese un Numero en b: 33\n",
            "La suma de a + b =  45\n"
          ]
        }
      ]
    },
    {
      "cell_type": "markdown",
      "source": [
        "2. Escribir un programa que solicite al usuario su nombre y edad, y luego muestre un mensaje que diga \"Hola [nombre], tienes [edad] años\".\n"
      ],
      "metadata": {
        "id": "QbKZmot-DShk"
      }
    },
    {
      "cell_type": "code",
      "source": [],
      "metadata": {
        "id": "MKH4Cr-hDY4x"
      },
      "execution_count": null,
      "outputs": []
    }
  ]
}